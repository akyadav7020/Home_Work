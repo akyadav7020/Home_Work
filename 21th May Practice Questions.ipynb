{
 "cells": [
  {
   "cell_type": "raw",
   "metadata": {},
   "source": [
    "#Questions\n",
    "l= [3,4,5,6,7,[23,456,67,8,78,78],[345,56,87,8,98,9],(234,6657,6),{\"key1\":\"sudh\",234:[23,45,656]}]\n",
    "1. Try to reverse a list\n",
    "2. Try to access 234 out of this list\n",
    "3. Try to access 456\n",
    "4. try to extract only a list collection from list l\n",
    "5. Try to extract \"sudh\"\n",
    "6. Try to list all the key in dict element available in list\n",
    "7. Try to extract all the value element from dict availabel in list"
   ]
  },
  {
   "cell_type": "code",
   "execution_count": 1,
   "metadata": {},
   "outputs": [],
   "source": [
    "l= [3,4,5,6,7,[23,456,67,8,78,78],[345,56,87,8,98,9],(234,6657,6),{\"key1\":\"sudh\",234:[23,45,656]}]"
   ]
  },
  {
   "cell_type": "code",
   "execution_count": 2,
   "metadata": {},
   "outputs": [
    {
     "name": "stdout",
     "output_type": "stream",
     "text": [
      "[{'key1': 'sudh', 234: [23, 45, 656]}, (234, 6657, 6), [345, 56, 87, 8, 98, 9], [23, 456, 67, 8, 78, 78], 7, 6, 5, 4, 3]\n",
      "[78, 78, 8, 67, 456, 23]\n",
      "[9, 98, 8, 87, 56, 345]\n",
      "[656, 45, 23]\n"
     ]
    }
   ],
   "source": [
    "#1. Try to reverse a list\n",
    "print(l[::-1])\n",
    "print(l[5][::-1])\n",
    "print(l[6][::-1])\n",
    "print(l[-1][234][::-1])"
   ]
  },
  {
   "cell_type": "code",
   "execution_count": 3,
   "metadata": {},
   "outputs": [
    {
     "name": "stdout",
     "output_type": "stream",
     "text": [
      "234\n",
      "234\n"
     ]
    }
   ],
   "source": [
    "#2. Try to access 234 out of this list\n",
    "print(l[-2][0])\n",
    "print(list(l[-1].items())[1][0])"
   ]
  },
  {
   "cell_type": "code",
   "execution_count": 4,
   "metadata": {},
   "outputs": [
    {
     "data": {
      "text/plain": [
       "456"
      ]
     },
     "execution_count": 4,
     "metadata": {},
     "output_type": "execute_result"
    }
   ],
   "source": [
    "#3. Try to access 456\n",
    "l[5][1]"
   ]
  },
  {
   "cell_type": "code",
   "execution_count": 5,
   "metadata": {},
   "outputs": [
    {
     "name": "stdout",
     "output_type": "stream",
     "text": [
      "[23, 456, 67, 8, 78, 78]\n",
      "[345, 56, 87, 8, 98, 9]\n",
      "[23, 45, 656]\n"
     ]
    }
   ],
   "source": [
    "#4. try to extract only a list collection from list l\n",
    "\n",
    "print(l[5])\n",
    "print(l[6])\n",
    "print(list(l[-1].items())[1][1])"
   ]
  },
  {
   "cell_type": "code",
   "execution_count": 6,
   "metadata": {},
   "outputs": [
    {
     "name": "stdout",
     "output_type": "stream",
     "text": [
      "sudh\n"
     ]
    }
   ],
   "source": [
    "#5. Try to extract \"sudh\"\n",
    "print(l[-1][\"key1\"])"
   ]
  },
  {
   "cell_type": "code",
   "execution_count": 7,
   "metadata": {},
   "outputs": [
    {
     "data": {
      "text/plain": [
       "['key1', 234]"
      ]
     },
     "execution_count": 7,
     "metadata": {},
     "output_type": "execute_result"
    }
   ],
   "source": [
    "#6. Try to list all the key in dict element available in list\n",
    "list(l[-1].keys())"
   ]
  },
  {
   "cell_type": "code",
   "execution_count": 8,
   "metadata": {},
   "outputs": [
    {
     "name": "stdout",
     "output_type": "stream",
     "text": [
      "234\n",
      "23\n",
      "45\n",
      "656\n"
     ]
    }
   ],
   "source": [
    "#7. Try to extract all the value element from dict availabel in list\n",
    "print(list(l[-1].keys())[1])\n",
    "print(list(l[-1].values())[1][0])\n",
    "print(list(l[-1].values())[1][1])\n",
    "print(list(l[-1].values())[1][2])"
   ]
  },
  {
   "cell_type": "code",
   "execution_count": null,
   "metadata": {},
   "outputs": [],
   "source": []
  }
 ],
 "metadata": {
  "kernelspec": {
   "display_name": "Python 3",
   "language": "python",
   "name": "python3"
  },
  "language_info": {
   "codemirror_mode": {
    "name": "ipython",
    "version": 3
   },
   "file_extension": ".py",
   "mimetype": "text/x-python",
   "name": "python",
   "nbconvert_exporter": "python",
   "pygments_lexer": "ipython3",
   "version": "3.7.6"
  }
 },
 "nbformat": 4,
 "nbformat_minor": 4
}
