{
 "cells": [
  {
   "cell_type": "raw",
   "metadata": {},
   "source": [
    "#Questions ----\n",
    "1. \n",
    "ineuron\n",
    "ineuron ineuron\n",
    "ineuron ineuron ineuron\n",
    "ineuron ineuron ineuron ineuron\n",
    "\n",
    "q2.\n",
    "       ineuron\n",
    "    ineuron   ineuron\n",
    "ineuron   ineuron    ineuron\n",
    "    ineuron   ineuron\n",
    "        ineuron\n",
    "        \n",
    "l = [[1,2,3,4],(2,3,4,5,6),(3,4,5,6,7),set([23,4,5,45,4,4,5,45,45,4,5]),{'k1':\"sudh\",\"k2\":\"ineuron\",\"k3\":\"kumar\",3:6,7:8},[\"ineuron\",\"data science\"]]\n",
    "q3: Try to extract all the list entity\n",
    "q4: Try to extract all the dict entities\n",
    "q5: Try to extract all the tuples entities\n",
    "q6: Try to extract all the numerical data it may be a part of dict key and values\n",
    "q7: Try to give summation of all the numeric data\n",
    "q8: Try to filter out all the odd values out of all numeric data which is a part of a list.\n",
    "q9: Try to extract \"ineuron\" out of this data\n",
    "q10: Try to find out a number of occurance of all the data\n",
    "q11: Try to find out number of keys in dict element\n",
    "q12: Try to filter out all the string data\n",
    "q13: Try to find out alphanum in data\n",
    "q14: Try to find out multiplication of all numeric value in the individual collection inside dataset\n",
    "q15: Try to unwarp all the collection inside collection and creat a flat list.\n",
    "\n",
    "Before 29th may 2022 3 PM IST you have to send an answer to me or to shivan\n",
    "sudhanshu@ineuron.ai\n",
    "shivan@ineuron.ai"
   ]
  },
  {
   "cell_type": "code",
   "execution_count": 1,
   "metadata": {},
   "outputs": [
    {
     "name": "stdout",
     "output_type": "stream",
     "text": [
      "ineuron \n",
      "\n",
      "ineuron ineuron \n",
      "\n",
      "ineuron ineuron ineuron \n",
      "\n",
      "ineuron ineuron ineuron ineuron \n",
      "\n"
     ]
    }
   ],
   "source": [
    "#Ans-1\n",
    "\n",
    "for i in range (4):\n",
    "    for j in range(i+1):\n",
    "        print(\"ineuron\", end =\" \")\n",
    "    print('\\n')\n",
    "        "
   ]
  },
  {
   "cell_type": "code",
   "execution_count": 2,
   "metadata": {},
   "outputs": [
    {
     "name": "stdout",
     "output_type": "stream",
     "text": [
      "         ineuron \n",
      "\n",
      "      ineuron ineuron \n",
      "\n",
      "   ineuron ineuron ineuron \n",
      "\n",
      "ineuron ineuron ineuron ineuron \n",
      "\n",
      "   ineuron ineuron ineuron \n",
      "\n",
      "      ineuron ineuron \n",
      "\n",
      "         ineuron \n",
      "\n"
     ]
    }
   ],
   "source": [
    "#Ans-2\n",
    "n=7\n",
    "k = int(n/2)\n",
    "for i in range(n):\n",
    "    if i < k:\n",
    "        for j in range(k-i):\n",
    "            print(\"   \",end =\"\")\n",
    "        for j in range(i+1):\n",
    "            print(\"ineuron\", end = \" \")\n",
    "        print(\"\\n\")\n",
    "    else:\n",
    "        for j in range(i-k):\n",
    "            print(\"   \",end =\"\")\n",
    "        for j in range(n-i):\n",
    "            print(\"ineuron\", end = \" \")\n",
    "        print(\"\\n\")"
   ]
  },
  {
   "cell_type": "code",
   "execution_count": 3,
   "metadata": {},
   "outputs": [
    {
     "name": "stdout",
     "output_type": "stream",
     "text": [
      "         ineuron \n",
      "\n",
      "      ineuron ineuron \n",
      "\n",
      "   ineuron ineuron ineuron \n",
      "\n",
      "ineuron ineuron ineuron ineuron \n",
      "\n",
      "   ineuron ineuron ineuron \n",
      "\n",
      "      ineuron ineuron \n",
      "\n",
      "         ineuron \n",
      "\n"
     ]
    }
   ],
   "source": [
    "n=7\n",
    "k = int(n/2)\n",
    "for i in range(n):\n",
    "    if i < k:\n",
    "        p=(k-i)\n",
    "        q=i+1\n",
    "    else:\n",
    "        p =(i-k)\n",
    "        q=n-i\n",
    "    for j in range(p):\n",
    "        print(\"   \",end =\"\")\n",
    "    for j in range(q):\n",
    "        print(\"ineuron\", end = \" \")\n",
    "    print(\"\\n\")"
   ]
  },
  {
   "cell_type": "code",
   "execution_count": 4,
   "metadata": {},
   "outputs": [],
   "source": [
    "l = [[1,2,3,4],(2,3,4,5,6),(3,4,5,6,7),set([23,4,5,45,4,4,5,45,45,4,5]),{'k1':\"sudh\",\"k2\":\"ineuron\",\"k3\":\"kumar\",3:6,7:8},[\"ineuron\",\"data science\"]]"
   ]
  },
  {
   "cell_type": "code",
   "execution_count": 5,
   "metadata": {},
   "outputs": [
    {
     "name": "stdout",
     "output_type": "stream",
     "text": [
      "[1, 2, 3, 4]\n",
      "['ineuron', 'data science']\n"
     ]
    }
   ],
   "source": [
    "#Q3-Try to extract all the list entity\n",
    "for i in l:\n",
    "    if type(i)==list:\n",
    "        print(i)"
   ]
  },
  {
   "cell_type": "code",
   "execution_count": 6,
   "metadata": {},
   "outputs": [
    {
     "name": "stdout",
     "output_type": "stream",
     "text": [
      "{'k1': 'sudh', 'k2': 'ineuron', 'k3': 'kumar', 3: 6, 7: 8}\n"
     ]
    }
   ],
   "source": [
    "#Q4: Try to extract all the dict entities\n",
    "for i in l:\n",
    "    if type(i) == dict:\n",
    "        print(i)"
   ]
  },
  {
   "cell_type": "code",
   "execution_count": 7,
   "metadata": {},
   "outputs": [
    {
     "name": "stdout",
     "output_type": "stream",
     "text": [
      "(2, 3, 4, 5, 6)\n",
      "(3, 4, 5, 6, 7)\n"
     ]
    }
   ],
   "source": [
    "#Q5: Try to extract all the tuples entities\n",
    "for i in l:\n",
    "    if type(i)==tuple:\n",
    "        print(i)"
   ]
  },
  {
   "cell_type": "code",
   "execution_count": 8,
   "metadata": {},
   "outputs": [
    {
     "name": "stdout",
     "output_type": "stream",
     "text": [
      "[1, 2, 3, 4] <class 'list'>\n",
      "(2, 3, 4, 5, 6) <class 'tuple'>\n",
      "(3, 4, 5, 6, 7) <class 'tuple'>\n",
      "{45, 4, 5, 23} <class 'set'>\n",
      "{'k1': 'sudh', 'k2': 'ineuron', 'k3': 'kumar', 3: 6, 7: 8} <class 'dict'>\n",
      "['ineuron', 'data science'] <class 'list'>\n"
     ]
    }
   ],
   "source": [
    "for i in l:\n",
    "    print(i,type(i))\n",
    "    "
   ]
  },
  {
   "cell_type": "code",
   "execution_count": 9,
   "metadata": {},
   "outputs": [
    {
     "name": "stdout",
     "output_type": "stream",
     "text": [
      "[1, 2, 3, 4, 2, 3, 4, 5, 6, 3, 4, 5, 6, 7, 45, 4, 5, 23, 3, 6, 7, 8]\n"
     ]
    }
   ],
   "source": [
    "#Q6: Try to extract all the numerical data it may be a part of dict key and value\n",
    "l1=[]\n",
    "for i in l:\n",
    "    if type(i)==list or type(i)== tuple or type(i)==set:\n",
    "        for j in i:\n",
    "            if str(j).isnumeric():\n",
    "                l1.append(j)\n",
    "    if type(i)==dict:\n",
    "        for key,value in i.items():\n",
    "            if str(key).isnumeric():\n",
    "                l1.append(key)\n",
    "            if str(value).isnumeric():\n",
    "                l1.append(value)\n",
    "print(l1)   "
   ]
  },
  {
   "cell_type": "code",
   "execution_count": 10,
   "metadata": {},
   "outputs": [
    {
     "name": "stdout",
     "output_type": "stream",
     "text": [
      "156\n"
     ]
    }
   ],
   "source": [
    "#Q7: Try to give summation of all the numeric data\n",
    "sum_of_all = 0\n",
    "for a in l1:\n",
    "    sum_of_all=sum_of_all+a\n",
    "print(sum_of_all)"
   ]
  },
  {
   "cell_type": "code",
   "execution_count": 11,
   "metadata": {},
   "outputs": [
    {
     "name": "stdout",
     "output_type": "stream",
     "text": [
      "[1, 3]\n"
     ]
    }
   ],
   "source": [
    "#Q8: Try to filter out all the odd values out of all numeric data which is a part of a list.\n",
    "l2=[]\n",
    "for i in l:\n",
    "    if type(i)==list:\n",
    "        for j in i:\n",
    "            if str(j).isnumeric():\n",
    "                if j%2 != 0:\n",
    "                    l2.append(j)\n",
    "print(l2)"
   ]
  },
  {
   "cell_type": "code",
   "execution_count": 12,
   "metadata": {},
   "outputs": [
    {
     "name": "stdout",
     "output_type": "stream",
     "text": [
      "ineuron\n",
      "ineuron\n"
     ]
    }
   ],
   "source": [
    "#Q9: Try to extract \"ineuron\" out of this data\n",
    "for i in l:\n",
    "    if type(i)==list or type(i)==tuple or type(i)==set:\n",
    "        for j in i:\n",
    "            if j =='ineuron':\n",
    "                print(j)\n",
    "    if type(i)==dict:\n",
    "        for key,value in i.items():\n",
    "            if key =='ineuron':\n",
    "                print(key)\n",
    "            if value =='ineuron':\n",
    "                print(value)"
   ]
  },
  {
   "cell_type": "code",
   "execution_count": 13,
   "metadata": {},
   "outputs": [
    {
     "name": "stdout",
     "output_type": "stream",
     "text": [
      "ineuron\n",
      "ineuron\n"
     ]
    }
   ],
   "source": [
    "print(l[4]['k2'])\n",
    "print(l[5][0])"
   ]
  },
  {
   "cell_type": "code",
   "execution_count": 14,
   "metadata": {},
   "outputs": [
    {
     "name": "stdout",
     "output_type": "stream",
     "text": [
      "k2  :  1\n",
      "1  :  1\n",
      "2  :  2\n",
      "3  :  4\n",
      "4  :  4\n",
      "5  :  3\n",
      "6  :  3\n",
      "7  :  2\n",
      "k1  :  1\n",
      "8  :  1\n",
      "data science  :  1\n",
      "ineuron  :  2\n",
      "kumar  :  1\n",
      "45  :  1\n",
      "sudh  :  1\n",
      "23  :  1\n",
      "k3  :  1\n"
     ]
    }
   ],
   "source": [
    "#Q10: Try to find out a number of occurance of all the data\n",
    "l2=[]\n",
    "for i in l:\n",
    "    if type(i)==list or type(i)== tuple or type(i)==set:\n",
    "        for j in i:\n",
    "            l2.append(j)\n",
    "    if type(i)==dict:\n",
    "        for key,value in i.items():\n",
    "            l2.append(key)\n",
    "            l2.append(value)\n",
    "s1 = set(l2)\n",
    "for e in s1:\n",
    "    print(e, \" : \",l2.count(e))"
   ]
  },
  {
   "cell_type": "code",
   "execution_count": 15,
   "metadata": {},
   "outputs": [
    {
     "name": "stdout",
     "output_type": "stream",
     "text": [
      "5\n"
     ]
    }
   ],
   "source": [
    "#Q11: Try to find out number of keys in dict element\n",
    "for i in l:\n",
    "    if type(i)==dict:\n",
    "        print(len(list(i.keys())))"
   ]
  },
  {
   "cell_type": "code",
   "execution_count": 16,
   "metadata": {},
   "outputs": [
    {
     "name": "stdout",
     "output_type": "stream",
     "text": [
      "['k1', 'sudh', 'k2', 'ineuron', 'k3', 'kumar', 'ineuron', 'data science']\n"
     ]
    }
   ],
   "source": [
    "#Q12: Try to filter out all the string data\n",
    "l3=[]\n",
    "for i in l:\n",
    "    if type(i)==list or type(i)== tuple or type(i)==set:\n",
    "        for j in i:\n",
    "            if type(j)==str:\n",
    "                l3.append(j)\n",
    "    if type(i)==dict:\n",
    "        for key,value in i.items():\n",
    "            if type(key)==str:\n",
    "                l3.append(key)\n",
    "            if type(value)==str:\n",
    "                l3.append(value)\n",
    "print(l3)"
   ]
  },
  {
   "cell_type": "code",
   "execution_count": 17,
   "metadata": {},
   "outputs": [
    {
     "name": "stdout",
     "output_type": "stream",
     "text": [
      "[1, 2, 3, 4, 2, 3, 4, 5, 6, 3, 4, 5, 6, 7, 45, 4, 5, 23, 'k1', 'sudh', 'k2', 'ineuron', 'k3', 'kumar', 3, 6, 7, 8, 'ineuron']\n"
     ]
    }
   ],
   "source": [
    "#Q13: Try to find out alphanum in data\n",
    "l4=[]\n",
    "for i in l:\n",
    "    if type(i)==list or type(i)== tuple or type(i)==set:\n",
    "        for j in i:\n",
    "            if str(j).isalnum():\n",
    "                l4.append(j)\n",
    "    if type(i)==dict:\n",
    "        for key,value in i.items():\n",
    "            if str(key).isalnum():\n",
    "                l4.append(key)\n",
    "            if str(value).isalnum():\n",
    "                l4.append(value)\n",
    "print(l4) "
   ]
  },
  {
   "cell_type": "code",
   "execution_count": 18,
   "metadata": {},
   "outputs": [
    {
     "name": "stdout",
     "output_type": "stream",
     "text": [
      "[24, 720, 2520, 20700, 1008]\n"
     ]
    }
   ],
   "source": [
    "#Q14: Try to find out multiplication of all numeric value in the individual collection inside dataset\n",
    "l5=[]\n",
    "for i in l:\n",
    "    if type(i)==list or type(i)== tuple or type(i)==set:\n",
    "        m,c=1,0\n",
    "        for j in i:\n",
    "            if str(j).isdigit():\n",
    "                c+=1\n",
    "                m=m*j\n",
    "        if c>0:\n",
    "            l5.append(m)\n",
    "    if type(i)==dict:\n",
    "        m,c=1,0\n",
    "        for key,value in i.items():\n",
    "            if str(key).isdigit():\n",
    "                c+=1\n",
    "                m=m*key\n",
    "            if str(value).isdigit():\n",
    "                m=m*value\n",
    "                c+=1\n",
    "        if c>0:\n",
    "            l5.append(m)\n",
    "print(l5) "
   ]
  },
  {
   "cell_type": "code",
   "execution_count": 19,
   "metadata": {},
   "outputs": [
    {
     "name": "stdout",
     "output_type": "stream",
     "text": [
      "[1, 2, 3, 4, 2, 3, 4, 5, 6, 3, 4, 5, 6, 7, 45, 4, 5, 23, 'k1', 'sudh', 'k2', 'ineuron', 'k3', 'kumar', 3, 6, 7, 8, 'ineuron', 'data science']\n"
     ]
    }
   ],
   "source": [
    "#Q15: Try to unwarp all the collection inside collection and creat a flat list.\n",
    "l2=[]\n",
    "for i in l:\n",
    "    if type(i)==list or type(i)== tuple or type(i)==set:\n",
    "        for j in i:\n",
    "            l2.append(j)\n",
    "    if type(i)==dict:\n",
    "        for key,value in i.items():\n",
    "            l2.append(key)\n",
    "            l2.append(value)\n",
    "print(l2)  "
   ]
  },
  {
   "cell_type": "code",
   "execution_count": null,
   "metadata": {},
   "outputs": [],
   "source": []
  }
 ],
 "metadata": {
  "kernelspec": {
   "display_name": "Python 3",
   "language": "python",
   "name": "python3"
  },
  "language_info": {
   "codemirror_mode": {
    "name": "ipython",
    "version": 3
   },
   "file_extension": ".py",
   "mimetype": "text/x-python",
   "name": "python",
   "nbconvert_exporter": "python",
   "pygments_lexer": "ipython3",
   "version": "3.7.6"
  }
 },
 "nbformat": 4,
 "nbformat_minor": 4
}
