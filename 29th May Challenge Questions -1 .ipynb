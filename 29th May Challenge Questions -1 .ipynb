{
 "cells": [
  {
   "cell_type": "raw",
   "metadata": {},
   "source": [
    "# Your First Challenge : \n",
    "    \n",
    "you have to submit it by next saturday 4th june 2022  : \n",
    "    shivan@ineuron.ai ,sudhanshu@ineuron.ai\n",
    "    \n",
    "q1 : Try to print this by using while loop \n",
    "* \n",
    "* * \n",
    "* * * \n",
    "* * * * \n",
    "* * * * * \n",
    "* * * * * * \n",
    "* * * * * * * \n",
    "* * * * * * * * \n",
    "* * * * * * * * * \n",
    "\n",
    "q2 : try to print below by using while loop : \n",
    "        \n",
    "A\n",
    "B H \n",
    "C I N\n",
    "D J o S\n",
    "E K p T W\n",
    "F L Q U X z\n",
    "G M R V Y \n",
    "\n",
    "q3 : Try to print all the number divisible by 3 in between a range of 40 - 400\n",
    "    \n",
    "q4 : Try to filter out all the vowels form below text by using while loop : \n",
    " \"\"\"Python is a high-level, interpreted, general-purpose programming language. Its design philosophy emphasizes code readability with the use of significant indentation.[32]\n",
    "\n",
    "Python is dynamically-typed and garbage-collected. It supports multiple programming paradigms, including structured (particularly procedural), object-oriented and functional programming. It is often described as a \"batteries included\" language due to its comprehensive standard library.[33][34]\n",
    "\n",
    "Guido van Rossum began working on Python in the late 1980s as a successor to the ABC programming language and first released it in 1991 as Python 0.9.0.[35] Python 2.0 was released in 2000 and introduced new features such as list comprehensions, cycle-detecting garbage collection, reference counting, and Unicode support. Python 3.0, released in 2008, was a major revision that is not completely backward-compatible with earlier versions. Python 2 was discontinued with version 2.7.18 in 2020.[36]\n",
    "\n",
    "Python consistently ranks as one of the most popular programming languagesc\"\"\" \n",
    "\n",
    "\n",
    "q5 : Try to generate all the even number between 1- 1000\n",
    "\n",
    "q6 : Define a function for all the above problem statememnt  . \n",
    "    \n",
    "q7 : write a code to get a time of your system \n",
    "\n",
    "q8 : Write a code to fetch date form your system \n",
    "\n",
    "q9 : Write a code to send a mail to your friend \n",
    "\n",
    "q10 : write a code to trigger alarm for you at scheduled time \n",
    "\n",
    "q11 : write a code to check ip address of your system \n",
    "\n",
    "q12 : Write a code to check a perticular installation in your system\n",
    "\n",
    "q13 : Write a code to convert any text in to voice \n",
    "\n",
    "q14 : you have to write a fun which will take string and return a len of \n",
    "it without using a inbuilt fun len\n",
    "\n",
    "q15 :write a fun which will be able to print an index of all premitive element which you will pass \n",
    "\n",
    "q16 : Write a fun which will take input as a dict and give me out as a list of all the values \n",
    "even in case of 2 level nesting it should work . \n",
    "\n",
    "q17 : write a function which will take multiple list as a input and give me concatnation of all the element as \n",
    "and output\n",
    "\n",
    "q18 : Write a function which will whould return list of all the file name from a directory . \n",
    "\n",
    "q19 : write a function which will be able to read a image file and show it to you .\n",
    "    \n",
    "q20 : write a function by which you will be able to append two PDF files . \n",
    "    \n",
    "q21 : write a function which can help you to filter only word file from a directory . \n",
    "    \n",
    "q22 : write a function which can read video file and play for you . \n",
    "    \n",
    "q23 : write a function which will be able to shutdonw your system . \n",
    "\n",
    "q24 : Write a function which will whould return list of all the file name from a directory . \n",
    "\n",
    "q25 : write a function which will be able to access your mail . "
   ]
  },
  {
   "cell_type": "code",
   "execution_count": 1,
   "metadata": {},
   "outputs": [
    {
     "name": "stdout",
     "output_type": "stream",
     "text": [
      "* \n",
      "\n",
      "* * \n",
      "\n",
      "* * * \n",
      "\n",
      "* * * * \n",
      "\n",
      "* * * * * \n",
      "\n"
     ]
    }
   ],
   "source": [
    "'''Q1 : Try to print this by using while loop \n",
    "* \n",
    "* * \n",
    "* * * \n",
    "* * * * \n",
    "* * * * * \n",
    "* * * * * * \n",
    "* * * * * * * \n",
    "* * * * * * * * \n",
    "* * * * * * * * *           '''\n",
    "n = 0\n",
    "while n < 5:\n",
    "    m=0\n",
    "    while m <= n:\n",
    "        print('*',end = \" \")\n",
    "        m = m+1\n",
    "    print(\"\\n\")\n",
    "    n=n+1"
   ]
  },
  {
   "cell_type": "code",
   "execution_count": 2,
   "metadata": {},
   "outputs": [
    {
     "name": "stdout",
     "output_type": "stream",
     "text": [
      "A \n",
      "\n",
      "B H \n",
      "\n",
      "C I N \n",
      "\n",
      "D J O S \n",
      "\n",
      "E K P T W \n",
      "\n",
      "F L Q U X Z \n",
      "\n",
      "G M R V Y \n",
      "\n"
     ]
    }
   ],
   "source": [
    "'''Q2 : try to print below by using while loop : \n",
    "A\n",
    "B H \n",
    "C I N\n",
    "D J O S\n",
    "E K p T W\n",
    "F L Q U X Z\n",
    "G M R V Y       '''\n",
    "\n",
    "n,i,r=(65,0,7)\n",
    "while i <r:\n",
    "    j=0\n",
    "    z=n\n",
    "    while j <=i:\n",
    "        if z>90:\n",
    "            break\n",
    "        print(chr(z),end =\" \")\n",
    "        z=z+(r-j-1)\n",
    "        j=j+1\n",
    "    print(\"\\n\")\n",
    "    n+=1\n",
    "    i=i+1"
   ]
  },
  {
   "cell_type": "code",
   "execution_count": 3,
   "metadata": {},
   "outputs": [
    {
     "name": "stdout",
     "output_type": "stream",
     "text": [
      "A \n",
      "\n",
      "B C \n",
      "\n",
      "D E F \n",
      "\n",
      "G H I J \n",
      "\n",
      "K L M N O \n",
      "\n",
      "P Q R S T U \n",
      "\n",
      "V W X Y Z \n",
      "\n"
     ]
    }
   ],
   "source": [
    "n=65\n",
    "j=0\n",
    "while n <= 90:\n",
    "    m=0\n",
    "    while m <= j:\n",
    "        if n>90:\n",
    "            break\n",
    "        print(chr(n),end = \" \")\n",
    "        n=n+1\n",
    "        m = m+1\n",
    "    print(\"\\n\")\n",
    "    j=j+1"
   ]
  },
  {
   "cell_type": "code",
   "execution_count": 4,
   "metadata": {},
   "outputs": [
    {
     "name": "stdout",
     "output_type": "stream",
     "text": [
      "42 45 48 51 54 57 60 63 66 69 72 75 78 81 84 87 90 93 96 99 102 105 108 111 114 117 120 123 126 129 132 135 138 141 144 147 150 153 156 159 162 165 168 171 174 177 180 183 186 189 192 195 198 201 204 207 210 213 216 219 222 225 228 231 234 237 240 243 246 249 252 255 258 261 264 267 270 273 276 279 282 285 288 291 294 297 300 303 306 309 312 315 318 321 324 327 330 333 336 339 342 345 348 351 354 357 360 363 366 369 372 375 378 381 384 387 390 393 396 399 "
     ]
    }
   ],
   "source": [
    "'''Q3 : Try to print all the number divisible by 3 in between a range of 40 - 400'''\n",
    "\n",
    "i=40\n",
    "while i < 400:\n",
    "    if i %3 == 0:\n",
    "        print(i, end = \" \")\n",
    "    i = i+1"
   ]
  },
  {
   "cell_type": "code",
   "execution_count": 5,
   "metadata": {},
   "outputs": [
    {
     "name": "stdout",
     "output_type": "stream",
     "text": [
      "O i a i e e i e e e e e a u o e o a i a u a e I e i i o o e a i e o e e a a i i i e u e o i i i a i e a i o o i a i a e a a a e o e e I u o u i e o a i a a i i u i u u e a i u a o e u a o e o i e e a u i o a o a i I i o e e i e a a a e i e i u e a u a e u e o i o e e i e a a i a u i o a o u e a o i o o i e a e a a u e o o e A o a i a u a e a i e e a e i i a o o a e e a e i a i o u e e e a u e u a i o e e i o e e e i a a e o e i o e e e e o u i a U i o e u o o e e a e i a a a o e i i o a i o o e e a a o a i e i e a i e e i o o a i o i u e i e i o i o o i e a a o e o e o o u a o a i a u a e "
     ]
    }
   ],
   "source": [
    "#Q4 : Try to filter out all the vowels form below text by using while loop : \n",
    "s = \"\"\"PythOn is a high-level, interpreted, general-purpose programming language. Its design philosophy emphasizes code readability with the use of significant indentation.[32]\n",
    "\n",
    "Python is dynamically-typed and garbage-collected. It supports multiple programming paradigms, including structured (particularly procedural), object-oriented and functional programming. It is often described as a \"batteries included\" language due to its comprehensive standard library.[33][34]\n",
    "\n",
    "Guido van Rossum began working on Python in the late 1980s as a successor to the ABC programming language and first released it in 1991 as Python 0.9.0.[35] Python 2.0 was released in 2000 and introduced new features such as list comprehensions, cycle-detecting garbage collection, reference counting, and Unicode support. Python 3.0, released in 2008, was a major revision that is not completely backward-compatible with earlier versions. Python 2 was discontinued with version 2.7.18 in 2020.[36]\n",
    "\n",
    "Python consistently ranks as one of the most popular programming languagesc\"\"\" \n",
    "\n",
    "i=0\n",
    "while i < len(s):\n",
    "    if s[i].lower() in ['a','e','i','o','u']:\n",
    "        print(s[i], end =\" \")\n",
    "    i = i+1"
   ]
  },
  {
   "cell_type": "code",
   "execution_count": 6,
   "metadata": {},
   "outputs": [
    {
     "name": "stdout",
     "output_type": "stream",
     "text": [
      "2 4 6 8 10 12 14 16 18 20 22 24 26 28 30 32 34 36 38 40 42 44 46 48 50 52 54 56 58 60 62 64 66 68 70 72 74 76 78 80 82 84 86 88 90 92 94 96 98 100 102 104 106 108 110 112 114 116 118 120 122 124 126 128 130 132 134 136 138 140 142 144 146 148 150 152 154 156 158 160 162 164 166 168 170 172 174 176 178 180 182 184 186 188 190 192 194 196 198 200 202 204 206 208 210 212 214 216 218 220 222 224 226 228 230 232 234 236 238 240 242 244 246 248 250 252 254 256 258 260 262 264 266 268 270 272 274 276 278 280 282 284 286 288 290 292 294 296 298 300 302 304 306 308 310 312 314 316 318 320 322 324 326 328 330 332 334 336 338 340 342 344 346 348 350 352 354 356 358 360 362 364 366 368 370 372 374 376 378 380 382 384 386 388 390 392 394 396 398 400 402 404 406 408 410 412 414 416 418 420 422 424 426 428 430 432 434 436 438 440 442 444 446 448 450 452 454 456 458 460 462 464 466 468 470 472 474 476 478 480 482 484 486 488 490 492 494 496 498 500 502 504 506 508 510 512 514 516 518 520 522 524 526 528 530 532 534 536 538 540 542 544 546 548 550 552 554 556 558 560 562 564 566 568 570 572 574 576 578 580 582 584 586 588 590 592 594 596 598 600 602 604 606 608 610 612 614 616 618 620 622 624 626 628 630 632 634 636 638 640 642 644 646 648 650 652 654 656 658 660 662 664 666 668 670 672 674 676 678 680 682 684 686 688 690 692 694 696 698 700 702 704 706 708 710 712 714 716 718 720 722 724 726 728 730 732 734 736 738 740 742 744 746 748 750 752 754 756 758 760 762 764 766 768 770 772 774 776 778 780 782 784 786 788 790 792 794 796 798 800 802 804 806 808 810 812 814 816 818 820 822 824 826 828 830 832 834 836 838 840 842 844 846 848 850 852 854 856 858 860 862 864 866 868 870 872 874 876 878 880 882 884 886 888 890 892 894 896 898 900 902 904 906 908 910 912 914 916 918 920 922 924 926 928 930 932 934 936 938 940 942 944 946 948 950 952 954 956 958 960 962 964 966 968 970 972 974 976 978 980 982 984 986 988 990 992 994 996 998 "
     ]
    }
   ],
   "source": [
    "#Q5 : Try to generate all the even number between 1- 1000\n",
    "i=1\n",
    "while i < 1000:\n",
    "    if i %2 == 0:\n",
    "        print(i, end = \" \")\n",
    "    i = i+1"
   ]
  },
  {
   "cell_type": "code",
   "execution_count": 7,
   "metadata": {},
   "outputs": [],
   "source": [
    "#Q6 : Define a function for all the above problem statememnt\n",
    "\n",
    "def pattern1():\n",
    "    n=0\n",
    "    while n <5:\n",
    "        m=0\n",
    "        while m <=n:\n",
    "            print(\"*\",end = \" \")\n",
    "            m=m+1\n",
    "        print(\"\\n\")\n",
    "        n = n+1\n",
    "\n",
    "def pattern2():\n",
    "    n,i,r=(65,0,7)\n",
    "    while i <r:\n",
    "        j=0\n",
    "        z=n\n",
    "        while j <=i:\n",
    "            if z>90:\n",
    "                break\n",
    "            print(chr(z),end =\" \")\n",
    "            z=z+(r-j-1)\n",
    "            j=j+1\n",
    "        print(\"\\n\")\n",
    "        n+=1\n",
    "        i=i+1\n",
    "\n",
    "def Numbers_in_range_dividual_by_3(i,n):\n",
    "    while i < n:\n",
    "        if i %3 == 0:\n",
    "            print(i, end = \" \")\n",
    "        i = i+1\n",
    "        \n",
    "def Vowel_in_string(s):\n",
    "    i=0\n",
    "    while i < len(s):\n",
    "        if s[i].lower() in ['a','e','i','o','u']:\n",
    "            print(s[i], end =\" \")\n",
    "        i = i+1\n",
    "        \n",
    "def Even_numbers_in_range(i,n):\n",
    "    while i < n:\n",
    "        if i %2 == 0:\n",
    "            print(i, end = \" \")\n",
    "        i = i+1"
   ]
  },
  {
   "cell_type": "code",
   "execution_count": 8,
   "metadata": {},
   "outputs": [
    {
     "name": "stdout",
     "output_type": "stream",
     "text": [
      "2 4 6 8 10 12 14 16 18 "
     ]
    }
   ],
   "source": [
    "Even_numbers_in_range(1,20)"
   ]
  },
  {
   "cell_type": "code",
   "execution_count": 9,
   "metadata": {},
   "outputs": [
    {
     "name": "stdout",
     "output_type": "stream",
     "text": [
      "08:08:40.442505\n"
     ]
    }
   ],
   "source": [
    "#Q7 : write a code to get a time of your system \n",
    "import datetime\n",
    "time_of_system = datetime.datetime.now()\n",
    "print(time_of_system.time())"
   ]
  },
  {
   "cell_type": "code",
   "execution_count": 10,
   "metadata": {},
   "outputs": [
    {
     "name": "stdout",
     "output_type": "stream",
     "text": [
      "2022-06-04\n"
     ]
    }
   ],
   "source": [
    "#Q8 : Write a code to fetch date form your system \n",
    "import datetime\n",
    "time_of_system = datetime.datetime.now()\n",
    "print(time_of_system.date())"
   ]
  },
  {
   "cell_type": "code",
   "execution_count": 11,
   "metadata": {},
   "outputs": [],
   "source": [
    "#Q9 : Write a code to send a mail to your friend \n",
    "\n"
   ]
  },
  {
   "cell_type": "code",
   "execution_count": 12,
   "metadata": {},
   "outputs": [],
   "source": [
    "#Q10 : write a code to trigger alarm for you at scheduled time \n",
    "\n"
   ]
  },
  {
   "cell_type": "code",
   "execution_count": 13,
   "metadata": {},
   "outputs": [
    {
     "name": "stdout",
     "output_type": "stream",
     "text": [
      "My Ip_Addr :-  192.168.43.103\n"
     ]
    }
   ],
   "source": [
    "#Q11 : write a code to check ip address of your system \n",
    "import socket   \n",
    "hostname=socket.gethostname()     \n",
    "ip_Add = socket.gethostbyname(hostname)\n",
    "print(\"My Ip_Addr :- \",ip_Add) "
   ]
  },
  {
   "cell_type": "code",
   "execution_count": 14,
   "metadata": {},
   "outputs": [
    {
     "name": "stdout",
     "output_type": "stream",
     "text": [
      "C:\\Users\\91708\\AppData\\Local\\Programs\\Python\\Python39\\Scripts\\jupyter.EXE\n",
      "Installed\n"
     ]
    }
   ],
   "source": [
    "#Q12 : Write a code to check a particular installation in your system\n",
    "\n",
    "import shutil\n",
    "s = \"jupyter\"\n",
    "print(shutil.which(s))\n",
    "if shutil.which(s) :\n",
    "    print(\"Installed\")\n",
    "else:\n",
    "    print(\"Not Installed\")\n"
   ]
  },
  {
   "cell_type": "code",
   "execution_count": 15,
   "metadata": {},
   "outputs": [],
   "source": [
    "#Q13 : Write a code to convert any text in to voice \n",
    "from gtts import gTTS\n",
    "text = 'How i can help you?'\n",
    "audio = gTTS(text)\n",
    "audio.save(\"text_to_voice.mp3\")"
   ]
  },
  {
   "cell_type": "code",
   "execution_count": 16,
   "metadata": {},
   "outputs": [
    {
     "data": {
      "text/plain": [
       "17"
      ]
     },
     "execution_count": 16,
     "metadata": {},
     "output_type": "execute_result"
    }
   ],
   "source": [
    "#Q14 : you have to write a fun which will take string and return a len of it without using a inbuilt fun len\n",
    "def length_of_string(s):\n",
    "    l = 0\n",
    "    for a in s:\n",
    "        l=l+1\n",
    "    return l\n",
    "length_of_string(\"abhay kumar yadav\")"
   ]
  },
  {
   "cell_type": "code",
   "execution_count": 17,
   "metadata": {},
   "outputs": [
    {
     "name": "stdout",
     "output_type": "stream",
     "text": [
      "index of  45  is 0\n",
      "index of  23  is 1\n",
      "index of  5  is 2\n",
      "index of  23  is 3\n",
      "index of  sudh  is 4\n",
      "index of  45.23  is 5\n"
     ]
    }
   ],
   "source": [
    "#Q15 :write a fun which will be able to print an index of all premitive element which you will pass \n",
    "\n",
    "def index_of_element(a):\n",
    "    index = 0\n",
    "    for i in a:\n",
    "        print(\"index of \", i ,\" is\", index)\n",
    "        index=index+1\n",
    "index_of_element([45,23,5,23,\"sudh\",45.23])        "
   ]
  },
  {
   "cell_type": "code",
   "execution_count": 18,
   "metadata": {},
   "outputs": [],
   "source": [
    "'''\n",
    "Q16 : Write a fun which will take input as a dict and give me out as a list of all the values \n",
    "even in case of 2 level nesting it should work. \n",
    "'''\n",
    "def dict_to_list(d):\n",
    "    L1=[]\n",
    "    if type(d) == dict:\n",
    "        for key,value in d.items():\n",
    "            if type(key) == tuple:\n",
    "                L1.extend(key)\n",
    "            else:\n",
    "                L1.append(key)\n",
    "            if type(value) in [list,tuple,set]:\n",
    "                L1.extend(value)\n",
    "            elif type(value) == dict:\n",
    "                L1 = L1 + dict_to_list(value)\n",
    "            else:\n",
    "                L1.append(value)\n",
    "    else:\n",
    "        return \"Please Give Dict as Input\"\n",
    "    return L1\n",
    "d= {'k1':'abhy','k2':{1,5,'ram'},456:['sudh',2425,656],(1,2):{'k5':'abhy','k6':232,'k7':('sudh',2425,656)},'k8':'abhay'}\n",
    "d2 = [2,3,4,5]"
   ]
  },
  {
   "cell_type": "code",
   "execution_count": 19,
   "metadata": {},
   "outputs": [
    {
     "data": {
      "text/plain": [
       "'Please Give Dict as Input'"
      ]
     },
     "execution_count": 19,
     "metadata": {},
     "output_type": "execute_result"
    }
   ],
   "source": [
    "dict_to_list(d2)"
   ]
  },
  {
   "cell_type": "code",
   "execution_count": 20,
   "metadata": {},
   "outputs": [
    {
     "data": {
      "text/plain": [
       "['k1',\n",
       " 'abhy',\n",
       " 'k2',\n",
       " 'ram',\n",
       " 1,\n",
       " 5,\n",
       " 456,\n",
       " 'sudh',\n",
       " 2425,\n",
       " 656,\n",
       " 1,\n",
       " 2,\n",
       " 'k5',\n",
       " 'abhy',\n",
       " 'k6',\n",
       " 232,\n",
       " 'k7',\n",
       " 'sudh',\n",
       " 2425,\n",
       " 656,\n",
       " 'k8',\n",
       " 'abhay']"
      ]
     },
     "execution_count": 20,
     "metadata": {},
     "output_type": "execute_result"
    }
   ],
   "source": [
    "dict_to_list(d)"
   ]
  },
  {
   "cell_type": "code",
   "execution_count": 21,
   "metadata": {},
   "outputs": [
    {
     "data": {
      "text/plain": [
       "[2, 4, 2, 3, 7, 2, 6, 3, 9, 6, 7, 23]"
      ]
     },
     "execution_count": 21,
     "metadata": {},
     "output_type": "execute_result"
    }
   ],
   "source": [
    "#Q17 : write a function whihc will take multiple list as a input and give me concatnation of all the element as and output\n",
    "def concate_list(l):\n",
    "    l1=[]\n",
    "    for i in range (len(l)):\n",
    "        l1.extend(l[i])\n",
    "    return l1\n",
    "\n",
    "concate_list([[2,4,2],[3,7,2],[6,3,9],[6,7,23]])\n"
   ]
  },
  {
   "cell_type": "code",
   "execution_count": 22,
   "metadata": {},
   "outputs": [],
   "source": [
    "#Q18 : Write a function which will whould return list of all the file name from a directory . \n",
    "\n"
   ]
  },
  {
   "cell_type": "code",
   "execution_count": 23,
   "metadata": {},
   "outputs": [],
   "source": [
    "#Q19 : write a function whihc will be able to read a image file and show it to you .\n",
    "\n",
    "from PIL import Image\n",
    "im = Image.open(r\"C:\\Users\\91708\\Downloads\\iNeuron\\Simonsviken.jpg\") \n",
    "im.show()    \n"
   ]
  },
  {
   "cell_type": "code",
   "execution_count": 24,
   "metadata": {},
   "outputs": [],
   "source": [
    "#Q20 : write a function by which you will be able to append two PDF files . \n",
    "    \n"
   ]
  },
  {
   "cell_type": "code",
   "execution_count": 25,
   "metadata": {},
   "outputs": [],
   "source": [
    "#Q21 : write a function which can help you to filter only word file from a directory . \n",
    "    \n"
   ]
  },
  {
   "cell_type": "code",
   "execution_count": 26,
   "metadata": {},
   "outputs": [],
   "source": [
    "#Q22 : write a function which can read video file and play for you . \n",
    "    \n"
   ]
  },
  {
   "cell_type": "code",
   "execution_count": 27,
   "metadata": {},
   "outputs": [],
   "source": [
    "#Q23 : write a function which will be able to shutdonw your system . \n",
    "\n"
   ]
  },
  {
   "cell_type": "code",
   "execution_count": 28,
   "metadata": {},
   "outputs": [],
   "source": [
    "#Q24 : Write a function which will whould return list of all the file name from a directory . \n",
    "\n"
   ]
  },
  {
   "cell_type": "code",
   "execution_count": 29,
   "metadata": {},
   "outputs": [],
   "source": [
    "#Q25 : write a function whihc will be able to access your mail "
   ]
  },
  {
   "cell_type": "code",
   "execution_count": null,
   "metadata": {},
   "outputs": [],
   "source": []
  }
 ],
 "metadata": {
  "kernelspec": {
   "display_name": "Python 3",
   "language": "python",
   "name": "python3"
  },
  "language_info": {
   "codemirror_mode": {
    "name": "ipython",
    "version": 3
   },
   "file_extension": ".py",
   "mimetype": "text/x-python",
   "name": "python",
   "nbconvert_exporter": "python",
   "pygments_lexer": "ipython3",
   "version": "3.7.6"
  }
 },
 "nbformat": 4,
 "nbformat_minor": 4
}
